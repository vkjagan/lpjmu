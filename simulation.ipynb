%pip install gurobipy

import pandas as pd

import gurobipy as gp
from gurobipy import GRB

# List of activities and vendors

Activities = ['Activity-1','Activity-2','Activity-3','Activity-4','Activity-5']
Vendors = ['Vendor-1', 'Vendor-2', 'InHouse']

# Create dictionary for cost savings (Mn $)

a2v, savings = gp.multidict({
    ('Activity-1', 'Vendor-1'): 15,
    ('Activity-1', 'Vendor-2'): 25,
    ('Activity-1', 'InHouse'): 0,
    ('Activity-2', 'Vendor-1'): 20,
    ('Activity-2', 'Vendor-2'): 16,
    ('Activity-2', 'InHouse'): 0,
    ('Activity-3', 'Vendor-1'): 11,
    ('Activity-3', 'Vendor-2'): 17,
    ('Activity-3', 'InHouse'): 0,
    ('Activity-4', 'Vendor-1'): 22,
    ('Activity-4', 'Vendor-2'): 18,
    ('Activity-4', 'InHouse'): 0,
    ('Activity-5', 'Vendor-1'): 15,
    ('Activity-5', 'Vendor-2'): 35,
    ('Activity-5', 'InHouse'): 0
})

# Create a dictionary to capture the annual coordination costs -in thousands of dollars from relocation.

ava2v2, coordinationCost = gp.multidict({
    ('Activity-1','InHouse','Activity-2','Vendor-1'): 13,
    ('Activity-1','InHouse','Activity-2','Vendor-2'): 9,
    ('Activity-1','InHouse','Activity-2','InHouse'): 1,
    ('Activity-1','InHouse','Activity-3','Vendor-1'): 15,
    ('Activity-1','InHouse','Activity-3','Vendor-2'): 10,
    ('Activity-1','InHouse','Activity-3','InHouse'): 1,
    ('Activity-1','InHouse','Activity-4','Vendor-1'): 22,
    ('Activity-1','InHouse','Activity-4','Vendor-2'): 8,
    ('Activity-1','InHouse','Activity-4','InHouse'): 1,
    ('Activity-1','InHouse','Activity-5','Vendor-1'): 10,
    ('Activity-1','InHouse','Activity-5','Vendor-2'): 17,
    ('Activity-1','InHouse','Activity-5','InHouse'): 1,

    ('Activity-2','InHouse','Activity-3','Vendor-1'): 17,
    ('Activity-2','InHouse','Activity-3','Vendor-2'): 23,
    ('Activity-2','InHouse','Activity-3','InHouse'): 1,
    ('Activity-2','InHouse','Activity-4','Vendor-1'): 14,
    ('Activity-2','InHouse','Activity-4','Vendor-2'): 22,
    ('Activity-2','InHouse','Activity-4','InHouse'): 1,
    ('Activity-2','InHouse','Activity-5','Vendor-1'): 21,
    ('Activity-2','InHouse','Activity-5','Vendor-2'): 11,
    ('Activity-2','InHouse','Activity-5','InHouse'): 1,

    ('Activity-3','InHouse','Activity-4','Vendor-1'): 18,
    ('Activity-3','InHouse','Activity-4','Vendor-2'): 22,
    ('Activity-3','InHouse','Activity-4','InHouse'): 1,
    ('Activity-3','InHouse','Activity-5','Vendor-1'): 17,
    ('Activity-3','InHouse','Activity-5','Vendor-2'): 8,
    ('Activity-3','InHouse','Activity-5','InHouse'): 1,

    ('Activity-4','InHouse','Activity-5','Vendor-1'): 17,
    ('Activity-4','InHouse','Activity-5','Vendor-2'): 16,
    ('Activity-4','InHouse','Activity-5','InHouse'): 1,

    ('Activity-1','Vendor-1','Activity-2','Vendor-1'): 1,
    ('Activity-1','Vendor-1','Activity-2','Vendor-2'): 19,
    ('Activity-1','Vendor-1','Activity-2','InHouse'): 21,
    ('Activity-1','Vendor-1','Activity-3','Vendor-1'): 1,
    ('Activity-1','Vendor-1','Activity-3','Vendor-2'): 26,
    ('Activity-1','Vendor-1','Activity-3','InHouse'): 31,
    ('Activity-1','Vendor-1','Activity-4','Vendor-1'): 1,
    ('Activity-1','Vendor-1','Activity-4','Vendor-2'): 11,
    ('Activity-1','Vendor-1','Activity-4','InHouse'): 17,
    ('Activity-1','Vendor-1','Activity-5','Vendor-1'): 1,
    ('Activity-1','Vendor-1','Activity-5','Vendor-2'): 18,
    ('Activity-1','Vendor-1','Activity-5','InHouse'): 9,

    ('Activity-2','Vendor-1','Activity-3','Vendor-1'): 1,
    ('Activity-2','Vendor-1','Activity-3','Vendor-2'): 21,
    ('Activity-2','Vendor-1','Activity-3','InHouse'): 30,
    ('Activity-2','Vendor-1','Activity-4','Vendor-1'): 1,
    ('Activity-2','Vendor-1','Activity-4','Vendor-2'): 20,
    ('Activity-2','Vendor-1','Activity-4','InHouse'): 10,
    ('Activity-2','Vendor-1','Activity-5','Vendor-1'): 1,
    ('Activity-2','Vendor-1','Activity-5','Vendor-2'): 25,
    ('Activity-2','Vendor-1','Activity-5','InHouse'): 15,

    ('Activity-3','Vendor-1','Activity-4','Vendor-1'): 1,
    ('Activity-3','Vendor-1','Activity-4','Vendor-2'): 28,
    ('Activity-3','Vendor-1','Activity-4','InHouse'): 14,
    ('Activity-3','Vendor-1','Activity-5','Vendor-1'): 1,
    ('Activity-3','Vendor-1','Activity-5','Vendor-2'): 15,
    ('Activity-3','Vendor-1','Activity-5','InHouse'): 13,

    ('Activity-4','Vendor-1','Activity-5','Vendor-1'): 1,
    ('Activity-4','Vendor-1','Activity-5','Vendor-2'): 25,
    ('Activity-4','Vendor-1','Activity-5','InHouse'): 27,

    ('Activity-1','Vendor-2','Activity-2','Vendor-1'): 11,
    ('Activity-1','Vendor-2','Activity-2','Vendor-2'): 1,
    ('Activity-1','Vendor-2','Activity-2','InHouse'): 15,
    ('Activity-1','Vendor-2','Activity-3','Vendor-1'): 20,
    ('Activity-1','Vendor-2','Activity-3','Vendor-2'): 1,
    ('Activity-1','Vendor-2','Activity-3','InHouse'): 10,
    ('Activity-1','Vendor-2','Activity-4','Vendor-1'): 9,
    ('Activity-1','Vendor-2','Activity-4','Vendor-2'): 1,
    ('Activity-1','Vendor-2','Activity-4','InHouse'): 11,
    ('Activity-1','Vendor-2','Activity-5','Vendor-1'): 12,
    ('Activity-1','Vendor-2','Activity-5','Vendor-2'): 1,
    ('Activity-1','Vendor-2','Activity-5','InHouse'): 8,

    ('Activity-2','Vendor-2','Activity-3','Vendor-1'): 7,
    ('Activity-2','Vendor-2','Activity-3','Vendor-2'): 1,
    ('Activity-2','Vendor-2','Activity-3','InHouse'): 11,
    ('Activity-2','Vendor-2','Activity-4','Vendor-1'): 15,
    ('Activity-2','Vendor-2','Activity-4','Vendor-2'): 1,
    ('Activity-2','Vendor-2','Activity-4','InHouse'): 18,
    ('Activity-2','Vendor-2','Activity-5','Vendor-1'): 14,
    ('Activity-2','Vendor-2','Activity-5','Vendor-2'): 1,
    ('Activity-2','Vendor-2','Activity-5','InHouse'): 20,

    ('Activity-3','Vendor-2','Activity-4','Vendor-1'): 22,
    ('Activity-3','Vendor-2','Activity-4','Vendor-2'): 1,
    ('Activity-3','Vendor-2','Activity-4','InHouse'): 22,
    ('Activity-3','Vendor-2','Activity-5','Vendor-1'): 20,
    ('Activity-3','Vendor-2','Activity-5','Vendor-2'): 1,
    ('Activity-3','Vendor-2','Activity-5','InHouse'): 10,

    ('Activity-4','Vendor-2','Activity-5','Vendor-1'): 25,
    ('Activity-4','Vendor-2','Activity-5','Vendor-2'): 1,
    ('Activity-4','Vendor-2','Activity-5','InHouse'): 15

})
 

model = gp.Model('outsourcing')

# Set global parameters 
model.params.nonConvex = 2

#source activity a to vendor v
source = model.addVars(a2v, vtype=GRB.BINARY, name="source")


# Activity sourcing constraint

activity_sourcing = model.addConstrs((gp.quicksum(source[a,v] for v in Vendors) == 1 for a in Activities), 
                                    name='Activity-ctivity_sourcing')


# Limit on number of activities

activities_limit = model.addConstrs((gp.quicksum(source[a,v] for a in Activities) <= 4 for v in Vendors), 
                                    name='Activity-ctivities_limit')


model.setObjective((gp.quicksum(savings[a,v]*source[a,v] for a,v in a2v) 
                    - gp.quicksum(coordinationCost[a,v,a2,v2]*source[a,v]*source[a2,v2] for a,v,a2,v2 in ava2v2) ),
                   GRB.MAXIMIZE)



# Verify model formulation

model.write('outsourcingQA.lp')

# Run optimization engine

model.optimize()


sourcing_plan = pd.DataFrame(columns=["Activities", "Vendors"])

count = 0

for v in Vendors:
    for a in Activities:
        if(source[a,v].x > 0.5):
            count += 1
            sourcing_plan = sourcing_plan.append({"Activities": a, "Vendors": v }, ignore_index=True )
sourcing_plan.index=['']*count
sourcing_plan


print("\n\n_________________________________________________________________________________")
print(f"Savings report")
print("_________________________________________________________________________________")
total_savings = 0
for v in Vendors:
    for a in Activities:
        if(source[a,v].x > 0.5):
            total_savings += 1000000*savings[a,v]

dollars_savings = '${:,.2f}'.format(total_savings)
print(f"The yearly total savings are {dollars_savings} dollars")

total_coordination_cost = 0
for a,v,a2,v2 in ava2v2:
    if(source[a,v].x*source[a2,v2].x > 0.5):
        total_coordination_cost += 1000000*coordinationCost[a,v,a2,v2]

dollars_coordination_cost = '${:,.2f}'.format(total_coordination_cost)
print(f"The yearly total coordination cost is {dollars_coordination_cost} dollars")

total_gross_margin = total_savings - total_coordination_cost
dollars_gross_margin = '${:,.2f}'.format(total_gross_margin)
print(f"The yearly total gross margin is {dollars_gross_margin} dollars")
